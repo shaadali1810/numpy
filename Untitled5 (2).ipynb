{
 "cells": [
  {
   "cell_type": "code",
   "execution_count": 1,
   "id": "d1efa7bc-2d0f-4df6-828e-dfe1cb18f7a1",
   "metadata": {},
   "outputs": [],
   "source": [
    "import numpy as np"
   ]
  },
  {
   "cell_type": "code",
   "execution_count": 2,
   "id": "f5de7923-97b1-4422-ab25-5df35af6b1a7",
   "metadata": {},
   "outputs": [
    {
     "data": {
      "text/plain": [
       "'An array is a vector containing homogeneous elements i.e. belonging to the same data type. Elements are allocated with contiguous memory locations. Typically the size of an array is fixed. Insertion and Deletion costs high as compare to List however indexing is fast in the Arrays due to contiguous memory allocation.\\n\\nOperations Difference in Lists and Arrays : –\\nArrays :- Accessing element is Fast in an array because they are in contiguous manner but insertion and deletion is quite expensive because all the elements are shifted from the position of inserting and deleting element linearly.\\n\\nSuppose the array is of 1000 length and we are inserting/deleting element at 100 position then all the element after hundred position will get shifted due to which the operation become expensive.'"
      ]
     },
     "execution_count": 2,
     "metadata": {},
     "output_type": "execute_result"
    }
   ],
   "source": [
    "#q1\n",
    "'''An array is a vector containing homogeneous elements i.e. belonging to the same data type. Elements are allocated with contiguous memory locations. Typically the size of an array is fixed. Insertion and Deletion costs high as compare to List however indexing is fast in the Arrays due to contiguous memory allocation.\n",
    "\n",
    "Operations Difference in Lists and Arrays : –\n",
    "Arrays :- Accessing element is Fast in an array because they are in contiguous manner but insertion and deletion is quite expensive because all the elements are shifted from the position of inserting and deleting element linearly.\n",
    "\n",
    "Suppose the array is of 1000 length and we are inserting/deleting element at 100 position then all the element after hundred position will get shifted due to which the operation become expensive.'''"
   ]
  },
  {
   "cell_type": "code",
   "execution_count": 3,
   "id": "078a60a4-fe1f-4d67-ad0e-eb41436b2256",
   "metadata": {},
   "outputs": [
    {
     "data": {
      "text/plain": [
       "' Accessing element in a list takes linear time because all the element in the lists are linked with each other for accessing ith element we have to traverse all the previous elements in a list however insertion and deletion in a list takes constant(which is not expensive at all) time as all the element are linked with each other for adding or removing new element we just remove the linked between the element and link new element like plumbing the pipe there is no need to shift element as in arrays.\\n\\nIn case of Binary Search Algorithm Arrays take log(n) time but list may take extra time because accessing mid element does not take constant time like an array.'"
      ]
     },
     "execution_count": 3,
     "metadata": {},
     "output_type": "execute_result"
    }
   ],
   "source": [
    "\n",
    "\n",
    "\n",
    "''' Accessing element in a list takes linear time because all the element in the lists are linked with each other for accessing ith element we have to traverse all the previous elements in a list however insertion and deletion in a list takes constant(which is not expensive at all) time as all the element are linked with each other for adding or removing new element we just remove the linked between the element and link new element like plumbing the pipe there is no need to shift element as in arrays.\n",
    "\n",
    "In case of Binary Search Algorithm Arrays take log(n) time but list may take extra time because accessing mid element does not take constant time like an array.'''"
   ]
  },
  {
   "cell_type": "code",
   "execution_count": 27,
   "id": "ba290eff-6e22-4581-b070-668d66073f11",
   "metadata": {},
   "outputs": [],
   "source": [
    "list1 = np.array(['1','2','3','4','5'])"
   ]
  },
  {
   "cell_type": "code",
   "execution_count": 18,
   "id": "189e8966-23ad-44d2-af31-ab73daa66f3f",
   "metadata": {},
   "outputs": [],
   "source": [
    "var_list = (['1','2','3','4','5'])"
   ]
  },
  {
   "cell_type": "code",
   "execution_count": 19,
   "id": "00233d13-56ce-4d12-93b6-62d23cd8d848",
   "metadata": {},
   "outputs": [
    {
     "data": {
      "text/plain": [
       "list"
      ]
     },
     "execution_count": 19,
     "metadata": {},
     "output_type": "execute_result"
    }
   ],
   "source": [
    "type(var_list)"
   ]
  },
  {
   "cell_type": "code",
   "execution_count": 20,
   "id": "af0d4b51-d873-40d1-99f3-58eb46e9917b",
   "metadata": {},
   "outputs": [
    {
     "data": {
      "text/plain": [
       "numpy.ndarray"
      ]
     },
     "execution_count": 20,
     "metadata": {},
     "output_type": "execute_result"
    }
   ],
   "source": [
    "type(list)"
   ]
  },
  {
   "cell_type": "code",
   "execution_count": 25,
   "id": "1f3b8579-99fb-4728-83ed-f54019b56ecb",
   "metadata": {},
   "outputs": [
    {
     "name": "stdout",
     "output_type": "stream",
     "text": [
      "<class 'numpy.ndarray'>\n",
      "<class 'numpy.ndarray'>\n",
      "<class 'numpy.ndarray'>\n",
      "<class 'numpy.ndarray'>\n",
      "<class 'numpy.ndarray'>\n"
     ]
    }
   ],
   "source": [
    "#2\n",
    "for i in list1:\n",
    "    print(type(list1))"
   ]
  },
  {
   "cell_type": "code",
   "execution_count": 26,
   "id": "7f48484f-14f4-492b-9f1f-426ec82b84b0",
   "metadata": {},
   "outputs": [
    {
     "name": "stdout",
     "output_type": "stream",
     "text": [
      "<class 'str'>\n",
      "<class 'str'>\n",
      "<class 'str'>\n",
      "<class 'str'>\n",
      "<class 'str'>\n"
     ]
    }
   ],
   "source": [
    "for i in var_list:\n",
    "    print(type(i))"
   ]
  },
  {
   "cell_type": "code",
   "execution_count": 29,
   "id": "e78bc69a-1961-4647-86b0-cc9e4b9beec1",
   "metadata": {},
   "outputs": [
    {
     "data": {
      "text/plain": [
       "array(['1', '2', '3', '4', '5'], dtype='<U1')"
      ]
     },
     "execution_count": 29,
     "metadata": {},
     "output_type": "execute_result"
    }
   ],
   "source": [
    "#q3\n",
    "list1"
   ]
  },
  {
   "cell_type": "code",
   "execution_count": 31,
   "id": "d4aa0358-dce6-4211-b75b-c01d6ed77cde",
   "metadata": {},
   "outputs": [],
   "source": [
    "array_list = np.array(object = list1)"
   ]
  },
  {
   "cell_type": "code",
   "execution_count": 32,
   "id": "7e833889-3c7e-4e5a-a525-2eb03c0731af",
   "metadata": {},
   "outputs": [
    {
     "name": "stdout",
     "output_type": "stream",
     "text": [
      "<class 'numpy.str_'>\n",
      "<class 'numpy.str_'>\n",
      "<class 'numpy.str_'>\n",
      "<class 'numpy.str_'>\n",
      "<class 'numpy.str_'>\n"
     ]
    }
   ],
   "source": [
    "for i in list1:\n",
    "    print(type(i))"
   ]
  },
  {
   "cell_type": "code",
   "execution_count": 33,
   "id": "7a072e6b-55e0-4208-84c9-35f9a8787829",
   "metadata": {},
   "outputs": [
    {
     "name": "stdout",
     "output_type": "stream",
     "text": [
      "<class 'str'>\n",
      "<class 'str'>\n",
      "<class 'str'>\n",
      "<class 'str'>\n",
      "<class 'str'>\n"
     ]
    }
   ],
   "source": [
    "for i in var_list:\n",
    "    print(type(i))"
   ]
  },
  {
   "cell_type": "code",
   "execution_count": 34,
   "id": "435ce6a2-de0e-438f-b2f4-b8737653bcd1",
   "metadata": {},
   "outputs": [
    {
     "name": "stdout",
     "output_type": "stream",
     "text": [
      "<class 'numpy.str_'>\n",
      "<class 'numpy.str_'>\n",
      "<class 'numpy.str_'>\n",
      "<class 'numpy.str_'>\n",
      "<class 'numpy.str_'>\n"
     ]
    }
   ],
   "source": [
    "for i in array_list:\n",
    "    print(type(i))"
   ]
  },
  {
   "cell_type": "code",
   "execution_count": 39,
   "id": "ae9f0e43-1b1a-4150-8266-660fb2709432",
   "metadata": {},
   "outputs": [],
   "source": [
    "#q4\n",
    "num_list = [[1,2,3],[4,5,6]]"
   ]
  },
  {
   "cell_type": "code",
   "execution_count": 40,
   "id": "8ded522d-cd52-498f-8c20-7b97ee037146",
   "metadata": {},
   "outputs": [],
   "source": [
    "num_array = np.array(object = num_list)"
   ]
  },
  {
   "cell_type": "code",
   "execution_count": 41,
   "id": "1ce2c4e4-15d5-40bc-b6ef-ee1ca3f21d01",
   "metadata": {},
   "outputs": [
    {
     "data": {
      "text/plain": [
       "(2, 3)"
      ]
     },
     "execution_count": 41,
     "metadata": {},
     "output_type": "execute_result"
    }
   ],
   "source": [
    "np.shape(num_array)"
   ]
  },
  {
   "cell_type": "code",
   "execution_count": 42,
   "id": "d04b90a8-80f7-40ad-9040-f0120b09c063",
   "metadata": {},
   "outputs": [
    {
     "data": {
      "text/plain": [
       "6"
      ]
     },
     "execution_count": 42,
     "metadata": {},
     "output_type": "execute_result"
    }
   ],
   "source": [
    "np.size(num_array)"
   ]
  },
  {
   "cell_type": "code",
   "execution_count": 44,
   "id": "46f677cd-8d08-4b82-b3bf-39e937a3e66c",
   "metadata": {},
   "outputs": [],
   "source": [
    "#Q5\n",
    "import numpy.matlib as nm"
   ]
  },
  {
   "cell_type": "code",
   "execution_count": null,
   "id": "7fc86574-c42f-4852-8e5f-bb403989609b",
   "metadata": {},
   "outputs": [],
   "source": [
    "nm."
   ]
  },
  {
   "cell_type": "code",
   "execution_count": 4,
   "id": "7a870788-a186-41a9-978f-f3ef5e551925",
   "metadata": {},
   "outputs": [
    {
     "data": {
      "text/plain": [
       "array([[1., 0., 0., 0., 0.],\n",
       "       [0., 1., 0., 0., 0.],\n",
       "       [0., 0., 1., 0., 0.],\n",
       "       [0., 0., 0., 1., 0.],\n",
       "       [0., 0., 0., 0., 1.]])"
      ]
     },
     "execution_count": 4,
     "metadata": {},
     "output_type": "execute_result"
    }
   ],
   "source": [
    "#q6\n",
    "\n",
    "np.eye(5)"
   ]
  },
  {
   "cell_type": "code",
   "execution_count": null,
   "id": "53e4f3c1-455a-4541-a93d-1d5adb483e3e",
   "metadata": {},
   "outputs": [],
   "source": [
    "\n"
   ]
  }
 ],
 "metadata": {
  "kernelspec": {
   "display_name": "Python 3 (ipykernel)",
   "language": "python",
   "name": "python3"
  },
  "language_info": {
   "codemirror_mode": {
    "name": "ipython",
    "version": 3
   },
   "file_extension": ".py",
   "mimetype": "text/x-python",
   "name": "python",
   "nbconvert_exporter": "python",
   "pygments_lexer": "ipython3",
   "version": "3.10.8"
  }
 },
 "nbformat": 4,
 "nbformat_minor": 5
}
